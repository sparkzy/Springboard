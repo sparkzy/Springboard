{
 "metadata": {
  "language_info": {
   "codemirror_mode": {
    "name": "ipython",
    "version": 3
   },
   "file_extension": ".py",
   "mimetype": "text/x-python",
   "name": "python",
   "nbconvert_exporter": "python",
   "pygments_lexer": "ipython3",
   "version": "3.8.5-final"
  },
  "orig_nbformat": 2,
  "kernelspec": {
   "name": "python3",
   "display_name": "Python 3",
   "language": "python"
  }
 },
 "nbformat": 4,
 "nbformat_minor": 2,
 "cells": [
  {
   "cell_type": "code",
   "execution_count": 1,
   "metadata": {},
   "outputs": [],
   "source": [
    "import json\n",
    "import urllib.request"
   ]
  },
  {
   "cell_type": "code",
   "execution_count": 5,
   "metadata": {},
   "outputs": [],
   "source": [
    "data = json.loads(urllib.request.urlopen('http://www.omdbapi.com/?t=Game%20of%20Thrones&Season=1&apikey=7c565782').read().decode('utf8'))"
   ]
  },
  {
   "cell_type": "code",
   "execution_count": 6,
   "metadata": {},
   "outputs": [
    {
     "output_type": "stream",
     "name": "stdout",
     "text": [
      "<class 'dict'>\n"
     ]
    }
   ],
   "source": [
    "print(type(data))"
   ]
  },
  {
   "cell_type": "code",
   "execution_count": 7,
   "metadata": {},
   "outputs": [
    {
     "output_type": "execute_result",
     "data": {
      "text/plain": [
       "dict_keys(['Title', 'Season', 'totalSeasons', 'Episodes', 'Response'])"
      ]
     },
     "metadata": {},
     "execution_count": 7
    }
   ],
   "source": [
    "data.keys()"
   ]
  },
  {
   "cell_type": "code",
   "execution_count": 8,
   "metadata": {},
   "outputs": [
    {
     "output_type": "execute_result",
     "data": {
      "text/plain": [
       "{'Title': 'Game of Thrones',\n",
       " 'Season': '1',\n",
       " 'totalSeasons': '8',\n",
       " 'Episodes': [{'Title': 'Winter Is Coming',\n",
       "   'Released': '2011-04-17',\n",
       "   'Episode': '1',\n",
       "   'imdbRating': '9.1',\n",
       "   'imdbID': 'tt1480055'},\n",
       "  {'Title': 'The Kingsroad',\n",
       "   'Released': '2011-04-24',\n",
       "   'Episode': '2',\n",
       "   'imdbRating': '8.8',\n",
       "   'imdbID': 'tt1668746'},\n",
       "  {'Title': 'Lord Snow',\n",
       "   'Released': '2011-05-01',\n",
       "   'Episode': '3',\n",
       "   'imdbRating': '8.7',\n",
       "   'imdbID': 'tt1829962'},\n",
       "  {'Title': 'Cripples, Bastards, and Broken Things',\n",
       "   'Released': '2011-05-08',\n",
       "   'Episode': '4',\n",
       "   'imdbRating': '8.8',\n",
       "   'imdbID': 'tt1829963'},\n",
       "  {'Title': 'The Wolf and the Lion',\n",
       "   'Released': '2011-05-15',\n",
       "   'Episode': '5',\n",
       "   'imdbRating': '9.1',\n",
       "   'imdbID': 'tt1829964'},\n",
       "  {'Title': 'A Golden Crown',\n",
       "   'Released': '2011-05-22',\n",
       "   'Episode': '6',\n",
       "   'imdbRating': '9.2',\n",
       "   'imdbID': 'tt1837862'},\n",
       "  {'Title': 'You Win or You Die',\n",
       "   'Released': '2011-05-29',\n",
       "   'Episode': '7',\n",
       "   'imdbRating': '9.2',\n",
       "   'imdbID': 'tt1837863'},\n",
       "  {'Title': 'The Pointy End',\n",
       "   'Released': '2011-06-05',\n",
       "   'Episode': '8',\n",
       "   'imdbRating': '9.0',\n",
       "   'imdbID': 'tt1837864'},\n",
       "  {'Title': 'Baelor',\n",
       "   'Released': '2011-06-12',\n",
       "   'Episode': '9',\n",
       "   'imdbRating': '9.6',\n",
       "   'imdbID': 'tt1851398'},\n",
       "  {'Title': 'Fire and Blood',\n",
       "   'Released': '2011-06-19',\n",
       "   'Episode': '10',\n",
       "   'imdbRating': '9.5',\n",
       "   'imdbID': 'tt1851397'}],\n",
       " 'Response': 'True'}"
      ]
     },
     "metadata": {},
     "execution_count": 8
    }
   ],
   "source": [
    "data"
   ]
  },
  {
   "cell_type": "code",
   "execution_count": 9,
   "metadata": {},
   "outputs": [
    {
     "output_type": "stream",
     "name": "stdout",
     "text": [
      "Winter Is Coming 9.1\nThe Kingsroad 8.8\nLord Snow 8.7\nCripples, Bastards, and Broken Things 8.8\nThe Wolf and the Lion 9.1\nA Golden Crown 9.2\nYou Win or You Die 9.2\nThe Pointy End 9.0\nBaelor 9.6\nFire and Blood 9.5\n"
     ]
    }
   ],
   "source": [
    "for episode in data['Episodes']:\n",
    "    print(episode['Title'], episode['imdbRating'])"
   ]
  },
  {
   "cell_type": "code",
   "execution_count": 10,
   "metadata": {},
   "outputs": [],
   "source": [
    "import pandas as pandas\n",
    "df = pandas.DataFrame.from_dict(data['Episodes'])"
   ]
  },
  {
   "cell_type": "code",
   "execution_count": 11,
   "metadata": {},
   "outputs": [
    {
     "output_type": "execute_result",
     "data": {
      "text/plain": [
       "                                   Title    Released  ... imdbRating     imdbID\n",
       "0                       Winter Is Coming  2011-04-17  ...        9.1  tt1480055\n",
       "1                          The Kingsroad  2011-04-24  ...        8.8  tt1668746\n",
       "2                              Lord Snow  2011-05-01  ...        8.7  tt1829962\n",
       "3  Cripples, Bastards, and Broken Things  2011-05-08  ...        8.8  tt1829963\n",
       "4                  The Wolf and the Lion  2011-05-15  ...        9.1  tt1829964\n",
       "5                         A Golden Crown  2011-05-22  ...        9.2  tt1837862\n",
       "6                     You Win or You Die  2011-05-29  ...        9.2  tt1837863\n",
       "7                         The Pointy End  2011-06-05  ...        9.0  tt1837864\n",
       "8                                 Baelor  2011-06-12  ...        9.6  tt1851398\n",
       "9                         Fire and Blood  2011-06-19  ...        9.5  tt1851397\n",
       "\n",
       "[10 rows x 5 columns]"
      ],
      "text/html": "<div>\n<style scoped>\n    .dataframe tbody tr th:only-of-type {\n        vertical-align: middle;\n    }\n\n    .dataframe tbody tr th {\n        vertical-align: top;\n    }\n\n    .dataframe thead th {\n        text-align: right;\n    }\n</style>\n<table border=\"1\" class=\"dataframe\">\n  <thead>\n    <tr style=\"text-align: right;\">\n      <th></th>\n      <th>Title</th>\n      <th>Released</th>\n      <th>Episode</th>\n      <th>imdbRating</th>\n      <th>imdbID</th>\n    </tr>\n  </thead>\n  <tbody>\n    <tr>\n      <th>0</th>\n      <td>Winter Is Coming</td>\n      <td>2011-04-17</td>\n      <td>1</td>\n      <td>9.1</td>\n      <td>tt1480055</td>\n    </tr>\n    <tr>\n      <th>1</th>\n      <td>The Kingsroad</td>\n      <td>2011-04-24</td>\n      <td>2</td>\n      <td>8.8</td>\n      <td>tt1668746</td>\n    </tr>\n    <tr>\n      <th>2</th>\n      <td>Lord Snow</td>\n      <td>2011-05-01</td>\n      <td>3</td>\n      <td>8.7</td>\n      <td>tt1829962</td>\n    </tr>\n    <tr>\n      <th>3</th>\n      <td>Cripples, Bastards, and Broken Things</td>\n      <td>2011-05-08</td>\n      <td>4</td>\n      <td>8.8</td>\n      <td>tt1829963</td>\n    </tr>\n    <tr>\n      <th>4</th>\n      <td>The Wolf and the Lion</td>\n      <td>2011-05-15</td>\n      <td>5</td>\n      <td>9.1</td>\n      <td>tt1829964</td>\n    </tr>\n    <tr>\n      <th>5</th>\n      <td>A Golden Crown</td>\n      <td>2011-05-22</td>\n      <td>6</td>\n      <td>9.2</td>\n      <td>tt1837862</td>\n    </tr>\n    <tr>\n      <th>6</th>\n      <td>You Win or You Die</td>\n      <td>2011-05-29</td>\n      <td>7</td>\n      <td>9.2</td>\n      <td>tt1837863</td>\n    </tr>\n    <tr>\n      <th>7</th>\n      <td>The Pointy End</td>\n      <td>2011-06-05</td>\n      <td>8</td>\n      <td>9.0</td>\n      <td>tt1837864</td>\n    </tr>\n    <tr>\n      <th>8</th>\n      <td>Baelor</td>\n      <td>2011-06-12</td>\n      <td>9</td>\n      <td>9.6</td>\n      <td>tt1851398</td>\n    </tr>\n    <tr>\n      <th>9</th>\n      <td>Fire and Blood</td>\n      <td>2011-06-19</td>\n      <td>10</td>\n      <td>9.5</td>\n      <td>tt1851397</td>\n    </tr>\n  </tbody>\n</table>\n</div>"
     },
     "metadata": {},
     "execution_count": 11
    }
   ],
   "source": [
    "df"
   ]
  },
  {
   "cell_type": "code",
   "execution_count": 12,
   "metadata": {},
   "outputs": [],
   "source": [
    "with open('omdb_api_data.json', 'w') as f:\n",
    "    json.dump(data, f)"
   ]
  },
  {
   "cell_type": "code",
   "execution_count": null,
   "metadata": {},
   "outputs": [],
   "source": []
  }
 ]
}