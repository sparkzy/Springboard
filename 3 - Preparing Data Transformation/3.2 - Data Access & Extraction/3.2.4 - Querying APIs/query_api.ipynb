{
 "metadata": {
  "language_info": {
   "codemirror_mode": {
    "name": "ipython",
    "version": 3
   },
   "file_extension": ".py",
   "mimetype": "text/x-python",
   "name": "python",
   "nbconvert_exporter": "python",
   "pygments_lexer": "ipython3",
   "version": "3.8.5-final"
  },
  "orig_nbformat": 2,
  "kernelspec": {
   "name": "python3",
   "display_name": "Python 3",
   "language": "python"
  }
 },
 "nbformat": 4,
 "nbformat_minor": 2,
 "cells": [
  {
   "cell_type": "code",
   "execution_count": 13,
   "metadata": {},
   "outputs": [],
   "source": [
    "import json\n",
    "import urllib.request"
   ]
  },
  {
   "cell_type": "code",
   "execution_count": 14,
   "metadata": {},
   "outputs": [],
   "source": [
    "data = json.loads(urllib.request.urlopen('http://www.omdbapi.com/?t=Game%20of%20Thrones&Season=1&apikey=7c565782').read().decode('utf8'))"
   ]
  },
  {
   "cell_type": "code",
   "execution_count": 15,
   "metadata": {},
   "outputs": [
    {
     "output_type": "stream",
     "name": "stdout",
     "text": [
      "<class 'dict'>\n"
     ]
    }
   ],
   "source": [
    "print(type(data))"
   ]
  },
  {
   "cell_type": "code",
   "execution_count": 16,
   "metadata": {},
   "outputs": [
    {
     "output_type": "execute_result",
     "data": {
      "text/plain": [
       "dict_keys(['Title', 'Season', 'totalSeasons', 'Episodes', 'Response'])"
      ]
     },
     "metadata": {},
     "execution_count": 16
    }
   ],
   "source": [
    "data.keys()"
   ]
  },
  {
   "cell_type": "code",
   "execution_count": 17,
   "metadata": {},
   "outputs": [
    {
     "output_type": "execute_result",
     "data": {
      "text/plain": [
       "{'Title': 'Game of Thrones',\n",
       " 'Season': '1',\n",
       " 'totalSeasons': '8',\n",
       " 'Episodes': [{'Title': 'Winter Is Coming',\n",
       "   'Released': '2011-04-17',\n",
       "   'Episode': '1',\n",
       "   'imdbRating': '9.1',\n",
       "   'imdbID': 'tt1480055'},\n",
       "  {'Title': 'The Kingsroad',\n",
       "   'Released': '2011-04-24',\n",
       "   'Episode': '2',\n",
       "   'imdbRating': '8.8',\n",
       "   'imdbID': 'tt1668746'},\n",
       "  {'Title': 'Lord Snow',\n",
       "   'Released': '2011-05-01',\n",
       "   'Episode': '3',\n",
       "   'imdbRating': '8.7',\n",
       "   'imdbID': 'tt1829962'},\n",
       "  {'Title': 'Cripples, Bastards, and Broken Things',\n",
       "   'Released': '2011-05-08',\n",
       "   'Episode': '4',\n",
       "   'imdbRating': '8.8',\n",
       "   'imdbID': 'tt1829963'},\n",
       "  {'Title': 'The Wolf and the Lion',\n",
       "   'Released': '2011-05-15',\n",
       "   'Episode': '5',\n",
       "   'imdbRating': '9.1',\n",
       "   'imdbID': 'tt1829964'},\n",
       "  {'Title': 'A Golden Crown',\n",
       "   'Released': '2011-05-22',\n",
       "   'Episode': '6',\n",
       "   'imdbRating': '9.2',\n",
       "   'imdbID': 'tt1837862'},\n",
       "  {'Title': 'You Win or You Die',\n",
       "   'Released': '2011-05-29',\n",
       "   'Episode': '7',\n",
       "   'imdbRating': '9.2',\n",
       "   'imdbID': 'tt1837863'},\n",
       "  {'Title': 'The Pointy End',\n",
       "   'Released': '2011-06-05',\n",
       "   'Episode': '8',\n",
       "   'imdbRating': '9.0',\n",
       "   'imdbID': 'tt1837864'},\n",
       "  {'Title': 'Baelor',\n",
       "   'Released': '2011-06-12',\n",
       "   'Episode': '9',\n",
       "   'imdbRating': '9.6',\n",
       "   'imdbID': 'tt1851398'},\n",
       "  {'Title': 'Fire and Blood',\n",
       "   'Released': '2011-06-19',\n",
       "   'Episode': '10',\n",
       "   'imdbRating': '9.5',\n",
       "   'imdbID': 'tt1851397'}],\n",
       " 'Response': 'True'}"
      ]
     },
     "metadata": {},
     "execution_count": 17
    }
   ],
   "source": [
    "data"
   ]
  },
  {
   "cell_type": "code",
   "execution_count": 18,
   "metadata": {},
   "outputs": [
    {
     "output_type": "stream",
     "name": "stdout",
     "text": [
      "Winter Is Coming 9.1\nThe Kingsroad 8.8\nLord Snow 8.7\nCripples, Bastards, and Broken Things 8.8\nThe Wolf and the Lion 9.1\nA Golden Crown 9.2\nYou Win or You Die 9.2\nThe Pointy End 9.0\nBaelor 9.6\nFire and Blood 9.5\n"
     ]
    }
   ],
   "source": [
    "for episode in data['Episodes']:\n",
    "    print(episode['Title'], episode['imdbRating'])"
   ]
  },
  {
   "cell_type": "code",
   "execution_count": 19,
   "metadata": {},
   "outputs": [],
   "source": [
    "import pandas as pandas\n",
    "df = pandas.DataFrame.from_dict(data['Episodes'])"
   ]
  },
  {
   "cell_type": "code",
   "execution_count": 20,
   "metadata": {},
   "outputs": [
    {
     "output_type": "execute_result",
     "data": {
      "text/plain": [
       "                                   Title    Released  ... imdbRating     imdbID\n",
       "0                       Winter Is Coming  2011-04-17  ...        9.1  tt1480055\n",
       "1                          The Kingsroad  2011-04-24  ...        8.8  tt1668746\n",
       "2                              Lord Snow  2011-05-01  ...        8.7  tt1829962\n",
       "3  Cripples, Bastards, and Broken Things  2011-05-08  ...        8.8  tt1829963\n",
       "4                  The Wolf and the Lion  2011-05-15  ...        9.1  tt1829964\n",
       "5                         A Golden Crown  2011-05-22  ...        9.2  tt1837862\n",
       "6                     You Win or You Die  2011-05-29  ...        9.2  tt1837863\n",
       "7                         The Pointy End  2011-06-05  ...        9.0  tt1837864\n",
       "8                                 Baelor  2011-06-12  ...        9.6  tt1851398\n",
       "9                         Fire and Blood  2011-06-19  ...        9.5  tt1851397\n",
       "\n",
       "[10 rows x 5 columns]"
      ],
      "text/html": "<div>\n<style scoped>\n    .dataframe tbody tr th:only-of-type {\n        vertical-align: middle;\n    }\n\n    .dataframe tbody tr th {\n        vertical-align: top;\n    }\n\n    .dataframe thead th {\n        text-align: right;\n    }\n</style>\n<table border=\"1\" class=\"dataframe\">\n  <thead>\n    <tr style=\"text-align: right;\">\n      <th></th>\n      <th>Title</th>\n      <th>Released</th>\n      <th>Episode</th>\n      <th>imdbRating</th>\n      <th>imdbID</th>\n    </tr>\n  </thead>\n  <tbody>\n    <tr>\n      <th>0</th>\n      <td>Winter Is Coming</td>\n      <td>2011-04-17</td>\n      <td>1</td>\n      <td>9.1</td>\n      <td>tt1480055</td>\n    </tr>\n    <tr>\n      <th>1</th>\n      <td>The Kingsroad</td>\n      <td>2011-04-24</td>\n      <td>2</td>\n      <td>8.8</td>\n      <td>tt1668746</td>\n    </tr>\n    <tr>\n      <th>2</th>\n      <td>Lord Snow</td>\n      <td>2011-05-01</td>\n      <td>3</td>\n      <td>8.7</td>\n      <td>tt1829962</td>\n    </tr>\n    <tr>\n      <th>3</th>\n      <td>Cripples, Bastards, and Broken Things</td>\n      <td>2011-05-08</td>\n      <td>4</td>\n      <td>8.8</td>\n      <td>tt1829963</td>\n    </tr>\n    <tr>\n      <th>4</th>\n      <td>The Wolf and the Lion</td>\n      <td>2011-05-15</td>\n      <td>5</td>\n      <td>9.1</td>\n      <td>tt1829964</td>\n    </tr>\n    <tr>\n      <th>5</th>\n      <td>A Golden Crown</td>\n      <td>2011-05-22</td>\n      <td>6</td>\n      <td>9.2</td>\n      <td>tt1837862</td>\n    </tr>\n    <tr>\n      <th>6</th>\n      <td>You Win or You Die</td>\n      <td>2011-05-29</td>\n      <td>7</td>\n      <td>9.2</td>\n      <td>tt1837863</td>\n    </tr>\n    <tr>\n      <th>7</th>\n      <td>The Pointy End</td>\n      <td>2011-06-05</td>\n      <td>8</td>\n      <td>9.0</td>\n      <td>tt1837864</td>\n    </tr>\n    <tr>\n      <th>8</th>\n      <td>Baelor</td>\n      <td>2011-06-12</td>\n      <td>9</td>\n      <td>9.6</td>\n      <td>tt1851398</td>\n    </tr>\n    <tr>\n      <th>9</th>\n      <td>Fire and Blood</td>\n      <td>2011-06-19</td>\n      <td>10</td>\n      <td>9.5</td>\n      <td>tt1851397</td>\n    </tr>\n  </tbody>\n</table>\n</div>"
     },
     "metadata": {},
     "execution_count": 20
    }
   ],
   "source": [
    "df"
   ]
  },
  {
   "cell_type": "code",
   "execution_count": 21,
   "metadata": {},
   "outputs": [],
   "source": [
    "with open('omdb_api_data.json', 'w') as f:\n",
    "    json.dump(data, f)"
   ]
  },
  {
   "cell_type": "code",
   "execution_count": 23,
   "metadata": {},
   "outputs": [],
   "source": [
    "with open('./dpla_config_secret.json') as key_file:\n",
    "    key = json.load(key_file)"
   ]
  },
  {
   "cell_type": "code",
   "execution_count": 24,
   "metadata": {},
   "outputs": [
    {
     "output_type": "execute_result",
     "data": {
      "text/plain": [
       "{'api_key': '160009222cc4b0d39f834899c2b76b4c'}"
      ]
     },
     "metadata": {},
     "execution_count": 24
    }
   ],
   "source": [
    "key"
   ]
  },
  {
   "cell_type": "code",
   "execution_count": 25,
   "metadata": {},
   "outputs": [],
   "source": [
    "import requests"
   ]
  },
  {
   "cell_type": "code",
   "execution_count": 31,
   "metadata": {},
   "outputs": [],
   "source": [
    "url = 'https://api.dp.la/v2/items'\n",
    "params = {'api_key' : key['api_key'], 'q' : 'goats+AND+cats'}"
   ]
  },
  {
   "cell_type": "code",
   "execution_count": 32,
   "metadata": {},
   "outputs": [],
   "source": [
    "r = requests.get(url, params=params)"
   ]
  },
  {
   "cell_type": "code",
   "execution_count": 33,
   "metadata": {},
   "outputs": [
    {
     "output_type": "execute_result",
     "data": {
      "text/plain": [
       "requests.models.Response"
      ]
     },
     "metadata": {},
     "execution_count": 33
    }
   ],
   "source": [
    "type(r)"
   ]
  },
  {
   "cell_type": "code",
   "execution_count": 34,
   "metadata": {},
   "outputs": [
    {
     "output_type": "execute_result",
     "data": {
      "text/plain": [
       "'https://api.dp.la/v2/items?api_key=160009222cc4b0d39f834899c2b76b4c&q=goats%2BAND%2Bcats'"
      ]
     },
     "metadata": {},
     "execution_count": 34
    }
   ],
   "source": [
    "r.url"
   ]
  },
  {
   "cell_type": "code",
   "execution_count": 35,
   "metadata": {},
   "outputs": [
    {
     "output_type": "execute_result",
     "data": {
      "text/plain": [
       "200"
      ]
     },
     "metadata": {},
     "execution_count": 35
    }
   ],
   "source": [
    "r.status_code"
   ]
  },
  {
   "cell_type": "code",
   "execution_count": 36,
   "metadata": {
    "tags": [
     "outputPrepend"
    ]
   },
   "outputs": [
    {
     "output_type": "stream",
     "name": "stdout",
     "text": [
      "\",\"name\":{\"namePart\":\"Defoe, Daniel, 1661?-1731. Robinson Crusoe\",\"type\":\"personal\"},\"authority\":\"naf\"},{\"topic\":{\"#text\":\"Huts\",\"authority\":\"lctgm\"}},{\"topic\":{\"#text\":\"Dogs\",\"authority\":\"lctgm\"}},{\"topic\":{\"#text\":\"Goats\",\"authority\":\"lctgm\"}},{\"topic\":{\"#text\":\"Cats\",\"authority\":\"lctgm\"}},{\"topic\":{\"#text\":\"Rifles\",\"authority\":\"lctgm\"}},{\"topic\":{\"#text\":\"Pipes (Smoking)\",\"authority\":\"lctgm\"}},{\"topic\":{\"#text\":\"Parrots\",\"authority\":\"lctgm\"}},{\"topic\":{\"#text\":\"Castaways\",\"authority\":\"lctgm\"}},{\"topic\":{\"#text\":\"Contentment\",\"authority\":\"lctgm\"}},{\"topic\":{\"#text\":\"Tools\",\"authority\":\"lcsh\"}},{\"topic\":{\"#text\":\"Cats and dogs\",\"authority\":\"lcsh\"}}]},\"id\":\"81db685b2144513053982dea4baa6cc4\"},{\"id\":\"51f3fc1f4be1e50ee9d1fd3e01608ed5\",\"@context\":\"http://dp.la/api/items/context\",\"@id\":\"http://dp.la/api/items/51f3fc1f4be1e50ee9d1fd3e01608ed5\",\"aggregatedCHO\":\"#sourceResource\",\"dataProvider\":\"University of South Carolina. Moving Image Research Collections\",\"ingestDate\":\"2020-08-10T17:37:50.305Z\",\"ingestType\":\"item\",\"isShownAt\":\"http://digital.tcl.sc.edu/cdm/ref/collection/MVTN/id/74\",\"object\":\"https://digital.tcl.sc.edu/utils/getthumbnail/collection/MVTN/id/74\",\"originalRecord\":{\"stringValue\":\"<record \\\\nxmlns=\\\\\"http://www.openarchives.org/OAI/2.0/\\\\\" xmlns:xsi=\\\\\"http://www.w3.org/2001/XMLSchema-instance\\\\\">\\\\n  <header>\\\\n    <identifier>oai:scmemory-search.org/oai-digital-tcl-sc-edu-mvtn-74</identifier>\\\\n    <datestamp>2020-08-06T15:03:07Z</datestamp>\\\\n  </header>\\\\n  <metadata>\\\\n    <qdc:qualifieddc \\\\n    xsi:schemaLocation=\\\\\"http://purl.org/dc/terms/          http://dublincore.org/schemas/xmls/qdc/2006/01/06/dcterms.xsd          http://purl.org/dc/elements/1.1/          http://dublincore.org/schemas/xmls/qdc/2006/01/06/dc.xsd\\\\\" xmlns:qdc=\\\\\"http://epubs.cclrc.ac.uk/xmlns/qdc/\\\\\" xmlns:dc=\\\\\"http://purl.org/dc/elements/1.1/\\\\\" xmlns:dcterms=\\\\\"http://purl.org/dc/terms/\\\\\" xmlns:xsi=\\\\\"http://www.w3.org/2001/XMLSchema-instance\\\\\">\\\\n      <dc:title>Delaney and her menagerie--outtakes</dc:title>\\\\n      <dc:creator>Fox News (Production unit)</dc:creator>\\\\n      <dc:date>1919-10</dc:date>\\\\n      <dc:description>\\\\n        Scenes of a Collie nursing puppies. Mrs. Lillian S. B. &quot;Sis&quot; Delaney feeding her animals including dogs, goats, chickens, cats, and pigs. More scenes of Mrs. Delaney with her thoroughbred Collies.\\\\n      </dc:description>\\\\n      <dc:identifier>\\\\n        http://digital.tcl.sc.edu/cdm/ref/collection/MVTN/id/74\\\\n      </dc:identifier>\\\\n      <dc:contributor>Reed (Camera operator)</dc:contributor>\\\\n      <dc:source>Fox News Story 0147</dc:source>\\\\n      <dc:rights>\\\\n        Copyright University of South Carolina. All rights reserved.\\\\n      </dc:rights>\\\\n      <dc:subject>Animals.</dc:subject>\\\\n      <dc:subject>Pets.</dc:subject>\\\\n      <dc:subject>Collie.</dc:subject>\\\\n      <dc:subject>Dogs.</dc:subject>\\\\n      <dc:type>Moving Image</dc:type>\\\\n      <dc:publisher>\\\\n        University of South Carolina. Moving Image Research Collections\\\\n      </dc:publisher>\\\\n      <dcterms:medium>Motion pictures (visual works)</dcterms:medium>\\\\n      <dcterms:spatial>Lawrence (Mass.)</dcterms:spatial>\\\\n      <dcterms:hasFormat>\\\\n        https://digital.tcl.sc.edu/utils/getthumbnail/collection/MVTN/id/74\\\\n      </dcterms:hasFormat>\\\\n      <dcterms:isPartOf>Fox Movietone News Collection</dcterms:isPartOf>\\\\n</qdc:qualifieddc>\\\\n  </metadata>\\\\n</record>\\\\n\"},\"provider\":{\"@id\":\"http://dp.la/api/contributor/scdl\",\"name\":\"South Carolina Digital Library\"},\"sourceResource\":{\"@id\":\"http://dp.la/api/items/51f3fc1f4be1e50ee9d1fd3e01608ed5#SourceResource\",\"collection\":[{\"title\":\"Fox Movietone News Collection\"}],\"contributor\":[\"Reed (Camera operator)\"],\"creator\":[\"Fox News (Production unit)\"],\"date\":[{\"displayDate\":\"1919-10\"}],\"description\":[\"Scenes of a Collie nursing puppies. Mrs. Lillian S. B. \\\\\"Sis\\\\\" Delaney feeding her animals including dogs, goats, chickens, cats, and pigs. More scenes of Mrs. Delaney with her thoroughbred Collies.\"],\"format\":[\"Motion pictures (visual works)\"],\"identifier\":[\"http://digital.tcl.sc.edu/cdm/ref/collection/MVTN/id/74\"],\"relation\":[\"Fox News Story 0147\"],\"rights\":[\"Copyright University of South Carolina. All rights reserved.\"],\"spatial\":[{\"name\":\"Lawrence (Mass.)\"}],\"subject\":[{\"name\":\"Animals\"},{\"name\":\"Pets\"},{\"name\":\"Collie\"},{\"name\":\"Dogs\"}],\"title\":[\"Delaney and her menagerie--outtakes\"],\"type\":[\"moving image\"]},\"@type\":\"ore:Aggregation\"},{\"id\":\"5e23de7a292952d928de10222711858e\",\"@context\":\"http://dp.la/api/items/context\",\"@id\":\"http://dp.la/api/items/5e23de7a292952d928de10222711858e\",\"aggregatedCHO\":\"#sourceResource\",\"dataProvider\":\"Smithsonian Archives - History Div\",\"ingestDate\":\"2020-12-08T00:39:00.593Z\",\"ingestType\":\"item\",\"isShownAt\":\"http://collections.si.edu/search/results.htm?q=record_ID=siris_sic_10344&repo=DPLA\",\"object\":\"http://ids.si.edu/ids/deliveryService?id=SIA-77-3197&max=150\",\"originalRecord\":{\"stringValue\":\"<doc>\\\\n  <descriptiveNonRepeating>\\\\n    <record_ID>siris_sic_10344</record_ID>\\\\n    <online_media>\\\\n      <media \\\\n      thumbnail=\\\\\"http://ids.si.edu/ids/deliveryService?id=SIA-77-3197&amp;max=150\\\\\" idsId=\\\\\"SIA-77-3197\\\\\" type=\\\\\"Images\\\\\">\\\\n        <usage>\\\\n          <access>Usage conditions apply</access>\\\\n          <text/>\\\\n        </usage>\\\\n        http://ids.si.edu/ids/deliveryService?id=SIA-77-3197\\\\n</media>\\\\n    </online_media>\\\\n    <unit_code>SIA-HIS</unit_code>\\\\n    <title_sort>1876 EXHIBIT ARTS AND INDUSTRIES BUILDING</title_sort>\\\\n    <record_link>\\\\n      http://collections.si.edu/search/results.htm?q=record_ID%3Asiris_sic_10344&amp;repo=DPLA\\\\n    </record_link>\\\\n    <title label=\\\\\"Title\\\\\">1876 Exhibit, Arts and Industries Building</title>\\\\n    <metadata_usage>\\\\n      <access>Usage conditions apply</access>\\\\n      <text/>\\\\n    </metadata_usage>\\\\n    <data_source>Smithsonian Archives - History Div</data_source>\\\\n  </descriptiveNonRepeating>\\\\n  <indexedStructured>\\\\n    <date>1970s</date>\\\\n    <tax_phylum>Chordata</tax_phylum>\\\\n    <object_type>Photographs</object_type>\\\\n    <object_type>Exhibitions (events)</object_type>\\\\n    <tax_class>Mammalia</tax_class>\\\\n    <sortdate>1977-01-01T00:00:00Z</sortdate>\\\\n    <name>1876: A Centennial Exhibition (1976 : Washington, D.C.)</name>\\\\n    <name>Arts and Industries Building</name>\\\\n    <topic>Taxidermy</topic>\\\\n    <topic>Cats</topic>\\\\n    <topic>Animals</topic>\\\\n    <topic>Goats</topic>\\\\n    <topic>Elk</topic>\\\\n    <topic>Exhibitions</topic>\\\\n    <topic>Seals (Animals)</topic>\\\\n    <topic>Mammals</topic>\\\\n    <topic>Bears</topic>\\\\n    <topic>Dolphins</topic>\\\\n    <tax_kingdom>Animalia</tax_kingdom>\\\\n    <usage_flag>Unknown</usage_flag>\\\\n    <usage_flag>SHI</usage_flag>\\\\n    <online_media_type>Images</online_media_type>\\\\n  </indexedStructured>\\\\n  <freetext>\\\\n    <date label=\\\\\"Date\\\\\">1977</date>\\\\n    <identifier label=\\\\\"Standard number\\\\\">77-3197</identifier>\\\\n    <notes label=\\\\\"Category\\\\\">Historic Images of the Smithsonian</notes>\\\\n    <notes label=\\\\\"Summary\\\\\">\\\\n      Display of mammals including stuffed bears, mounted deer and elk heads, and smaller animals in the Arts and Industries Building. This exhibit was part of &quot;1876: A Centennial Exhibition,&quot; a recreation of the 1876 Centennial Exhibition in Philadelphia. The exhibit was part of the celebration of the Bicentennial of the American Revolution.\\\\n    </notes>\\\\n    <notes label=\\\\\"Contained within\\\\\">\\\\n      Smithsonian Institution Archives, Record Unit 95, Box 42, Folder: 6\\\\n    </notes>\\\\n    <notes label=\\\\\"Contact information\\\\\">\\\\n      Institutional History Division, Smithsonian Institution Archives, 600 Maryland Avenue, S.W., Washington, D.C. 20024-2520, SIHistory@si.edu\\\\n    </notes>\\\\n    <name label=\\\\\"Author\\\\\">Unknown</name>\\\\n    <name label=\\\\\"Subject\\\\\">Arts and Industries Building</name>\\\\n    <name label=\\\\\"Subject\\\\\">\\\\n      1876: A Centennial Exhibition (Exhibition) (1976: Washington, D.C.)\\\\n    </name>\\\\n    <topic label=\\\\\"Topic\\\\\">Elk</topic>\\\\n    <topic label=\\\\\"Topic\\\\\">Fox</topic>\\\\n    <topic label=\\\\\"Topic\\\\\">Cats</topic>\\\\n    <topic label=\\\\\"Topic\\\\\">Goats</topic>\\\\n    <topic label=\\\\\"Topic\\\\\">Dolphins</topic>\\\\n    <topic label=\\\\\"Topic\\\\\">Taxidermy</topic>\\\\n    <topic label=\\\\\"Topic\\\\\">Animals</topic>\\\\n    <topic label=\\\\\"Topic\\\\\">Mammals</topic>\\\\n    <topic label=\\\\\"Topic\\\\\">Exhibitions</topic>\\\\n    <topic label=\\\\\"Topic\\\\\">Seals (Animals)</topic>\\\\n    <topic label=\\\\\"Topic\\\\\">Bears</topic>\\\\n    <topic label=\\\\\"Topic\\\\\">Deer</topic>\\\\n    <physicalDescription label=\\\\\"Physical description\\\\\">\\\\n      Color: Black and White; Size: 10w x 8h; Type of Image: Exhibit; Medium: Photographic print\\\\n    </physicalDescription>\\\\n    <dataSource label=\\\\\"Data Source\\\\\">Smithsonian Archives - History Div</dataSource>\\\\n    <objectRights label=\\\\\"Restrictions &amp; Rights\\\\\">No restrictions</objectRights>\\\\n    <objectType label=\\\\\"Type\\\\\">Photographic print</objectType>\\\\n    <objectType label=\\\\\"Type\\\\\">Exhibit</objectType>\\\\n  </freetext>\\\\n</doc>\"},\"provider\":{\"@id\":\"http://dp.la/api/contributor/smithsonian\",\"name\":\"Smithsonian Institution\"},\"sourceResource\":{\"@id\":\"http://dp.la/api/items/5e23de7a292952d928de10222711858e#SourceResource\",\"creator\":[\"Unknown\",\"Arts and Industries Building\",\"1876: A Centennial Exhibition (Exhibition) (1976: Washington, D.C.)\"],\"date\":[{\"displayDate\":\"1977\",\"begin\":\"1977\",\"end\":\"1977\"}],\"description\":[\"Historic Images of the Smithsonian\",\"Display of mammals including stuffed bears, mounted deer and elk heads, and smaller animals in the Arts and Industries Building. This exhibit was part of \\\\\"1876: A Centennial Exhibition,\\\\\" a recreation of the 1876 Centennial Exhibition in Philadelphia. The exhibit was part of the celebration of the Bicentennial of the American Revolution.\",\"Smithsonian Institution Archives, Record Unit 95, Box 42, Folder: 6\",\"Institutional History Division, Smithsonian Institution Archives, 600 Maryland Avenue, S.W., Washington, D.C. 20024-2520, SIHistory@si.edu\"],\"format\":[\"Color: Black and White; Size: 10w x 8h; Type of Image: Exhibit; Medium: Photographic print\"],\"subject\":[{\"name\":\"Taxidermy\"},{\"name\":\"Cats\"},{\"name\":\"Animals\"},{\"name\":\"Goats\"},{\"name\":\"Elk\"},{\"name\":\"Exhibitions\"},{\"name\":\"Seals (Animals)\"},{\"name\":\"Mammals\"},{\"name\":\"Bears\"},{\"name\":\"Dolphins\"},{\"name\":\"1876\"},{\"name\":\"A Centennial Exhibition (1976\"},{\"name\":\"Washington, D.C.)\"},{\"name\":\"Arts and Industries Building\"},{\"name\":\"Animalia\"},{\"name\":\"Chordata\"},{\"name\":\"Mammalia\"},{\"name\":\"Fox\"},{\"name\":\"Deer\"}],\"temporal\":[{\"displayDate\":\"1977\"}],\"title\":[\"1876 Exhibit, Arts and Industries Building\"]},\"@type\":\"ore:Aggregation\"},{\"id\":\"08df76ebf5f9b4ffb3be0f42899449e1\",\"@context\":\"http://dp.la/api/items/context\",\"@id\":\"http://dp.la/api/items/08df76ebf5f9b4ffb3be0f42899449e1\",\"aggregatedCHO\":\"#sourceResource\",\"dataProvider\":\"Smithsonian American Art Museum\",\"ingestDate\":\"2020-12-08T00:39:18.809Z\",\"ingestType\":\"item\",\"isShownAt\":\"http://collections.si.edu/search/results.htm?q=record_ID=saam_1958.11.21&repo=DPLA\",\"object\":\"https://ids.si.edu/ids/deliveryService?id=SAAM-1958.11.21_1\",\"originalRecord\":{\"stringValue\":\"<doc>\\\\n  <descriptiveNonRepeating>\\\\n    <record_ID>saam_1958.11.21</record_ID>\\\\n    <online_media>\\\\n      <media \\\\n      thumbnail=\\\\\"https://ids.si.edu/ids/deliveryService?id=SAAM-1958.11.21_1\\\\\" idsId=\\\\\"SAAM-1958.11.21_1\\\\\" guid=\\\\\"http://n2t.net/ark:/65665/bj9d11ddbef-0ecc-4e32-a134-c48b14ab7b71\\\\\" type=\\\\\"Images\\\\\">\\\\n        <usage>\\\\n          <access>CC0</access>\\\\n        </usage>\\\\n        https://ids.si.edu/ids/deliveryService?id=SAAM-1958.11.21_1\\\\n</media>\\\\n    </online_media>\\\\n    <unit_code>SAAM</unit_code>\\\\n    <title_sort>HEAD OF DOG</title_sort>\\\\n    <guid>http://n2t.net/ark:/65665/vk73a880bcd-32c3-49fa-9fc5-0b8d72696be8</guid>\\\\n    <record_link>\\\\n      http://collections.si.edu/search/results.htm?q=record_ID%3Asaam_1958.11.21&amp;repo=DPLA\\\\n    </record_link>\\\\n    <title label=\\\\\"Title\\\\\">Head of Dog</title>\\\\n    <metadata_usage>\\\\n      <access>CC0</access>\\\\n    </metadata_usage>\\\\n    <data_source>Smithsonian American Art Museum</data_source>\\\\n  </descriptiveNonRepeating>\\\\n  <indexedStructured>\\\\n    <date>1880s</date>\\\\n    <date>1870s</date>\\\\n    <object_type>Sculpture (visual work)</object_type>\\\\n    <name>Bartlett, Paul Wayland</name>\\\\n    <topic>Animals</topic>\\\\n    <topic>Dogs</topic>\\\\n    <usage_flag>permcoll</usage_flag>\\\\n    <online_media_type>Images</online_media_type>\\\\n  </indexedStructured>\\\\n  <freetext>\\\\n    <setName label=\\\\\"See more items in\\\\\">\\\\n      Smithsonian American Art Museum Collection\\\\n    </setName>\\\\n    <setName label=\\\\\"Department\\\\\">Painting and Sculpture</setName>\\\\n    <date label=\\\\\"Date\\\\\">modeled ca. 1877-1881</date>\\\\n    <identifier label=\\\\\"Object number\\\\\">1958.11.21</identifier>\\\\n    <notes label=\\\\\"Luce Center Label\\\\\">\\\\n      Paul Wayland Bartlett created many sculptures of animals during his early career in France. He studied the menagerie of wild creatures at the Jardin des Plantes in Paris and modeled sculptures of domestic animals such as cats, dogs, and goats. In the tradition of the animaliers, he often focused on facial expressions to capture the animal\\xe2\\x80\\x99s emotion.\\\\n    </notes>\\\\n    <creditLine label=\\\\\"Credit Line\\\\\">\\\\n      Smithsonian American Art Museum, Gift of Mrs. Armistead Peter III\\\\n    </creditLine>\\\\n    <name label=\\\\\"Artist\\\\\">\\\\n      Paul Wayland Bartlett, born New Haven, CT 1865-died Paris, France 1925\\\\n    </name>\\\\n    <topic label=\\\\\"Topic\\\\\">Animal\\\\\\\\dog</topic>\\\\n    <physicalDescription label=\\\\\"Medium\\\\\">bronze</physicalDescription>\\\\n    <physicalDescription label=\\\\\"Dimensions\\\\\">\\\\n      2 1/2 x 2 7/8 x 2 7/8 in. (6.4 x 7.3 x 7.3 cm)\\\\n    </physicalDescription>\\\\n    <dataSource label=\\\\\"Data Source\\\\\">Smithsonian American Art Museum</dataSource>\\\\n    <objectRights label=\\\\\"Restrictions &amp; Rights\\\\\">CC0</objectRights>\\\\n    <objectType label=\\\\\"Type\\\\\">Sculpture</objectType>\\\\n  </freetext>\\\\n</doc>\"},\"provider\":{\"@id\":\"http://dp.la/api/contributor/smithsonian\",\"name\":\"Smithsonian Institution\"},\"sourceResource\":{\"@id\":\"http://dp.la/api/items/08df76ebf5f9b4ffb3be0f42899449e1#SourceResource\",\"collection\":[{\"title\":\"Smithsonian American Art Museum Collection\"},{\"title\":\"Painting and Sculpture\"}],\"creator\":[\"Paul Wayland Bartlett, born New Haven, CT 1865-died Paris, France 1925\"],\"date\":[{\"displayDate\":\"modeled ca. 1877-1881\"}],\"description\":[\"Paul Wayland Bartlett created many sculptures of animals during his early career in France. He studied the menagerie of wild creatures at the Jardin des Plantes in Paris and modeled sculptures of domestic animals such as cats, dogs, and goats. In the tradition of the animaliers, he often focused on facial expressions to capture the animal\\xe2\\x80\\x99s emotion.\"],\"extent\":[\"2 1/2 x 2 7/8 x 2 7/8 in. (6.4 x 7.3 x 7.3 cm)\"],\"format\":[\"Bronze\"],\"rights\":[\"Smithsonian American Art Museum, Gift of Mrs. Armistead Peter III\"],\"subject\":[{\"name\":\"Animals\"},{\"name\":\"Dogs\"},{\"name\":\"Bartlett, Paul Wayland\"},{\"name\":\"Animal\"},{\"name\":\"Dog\"}],\"temporal\":[{\"displayDate\":\"modeled ca. 1877-1881\"}],\"title\":[\"Head of Dog\"],\"type\":[\"physical object\"]},\"@type\":\"ore:Aggregation\"},{\"id\":\"5365a569594b6afe495ede88351bc551\",\"@context\":\"http://dp.la/api/items/context\",\"@id\":\"http://dp.la/api/items/5365a569594b6afe495ede88351bc551\",\"aggregatedCHO\":\"#sourceResource\",\"dataProvider\":\"Smithsonian American Art Museum\",\"ingestDate\":\"2020-12-08T00:39:07.272Z\",\"ingestType\":\"item\",\"isShownAt\":\"http://collections.si.edu/search/results.htm?q=record_ID=saam_1958.11.22&repo=DPLA\",\"object\":\"https://ids.si.edu/ids/deliveryService?id=SAAM-1958.11.22_5\",\"originalRecord\":{\"stringValue\":\"<doc>\\\\n  <descriptiveNonRepeating>\\\\n    <record_ID>saam_1958.11.22</record_ID>\\\\n    <online_media>\\\\n      <media \\\\n      thumbnail=\\\\\"https://ids.si.edu/ids/deliveryService?id=SAAM-1958.11.22_5\\\\\" idsId=\\\\\"SAAM-1958.11.22_5\\\\\" guid=\\\\\"http://n2t.net/ark:/65665/bj9540fffe9-6a2b-42c4-be35-3797d950090a\\\\\" type=\\\\\"Images\\\\\">\\\\n        <usage>\\\\n          <access>CC0</access>\\\\n        </usage>\\\\n        https://ids.si.edu/ids/deliveryService?id=SAAM-1958.11.22_5\\\\n</media>\\\\n    </online_media>\\\\n    <unit_code>SAAM</unit_code>\\\\n    <title_sort>KID\\'S HEAD</title_sort>\\\\n    <guid>http://n2t.net/ark:/65665/vk7bb7ea342-b2a2-43fa-a70e-32fcf03215e5</guid>\\\\n    <record_link>\\\\n      http://collections.si.edu/search/results.htm?q=record_ID%3Asaam_1958.11.22&amp;repo=DPLA\\\\n    </record_link>\\\\n    <title label=\\\\\"Title\\\\\">Kid\\'s Head</title>\\\\n    <metadata_usage>\\\\n      <access>CC0</access>\\\\n    </metadata_usage>\\\\n    <data_source>Smithsonian American Art Museum</data_source>\\\\n  </descriptiveNonRepeating>\\\\n  <indexedStructured>\\\\n    <date>1880s</date>\\\\n    <date>1870s</date>\\\\n    <object_type>Sculpture (visual work)</object_type>\\\\n    <name>Bartlett, Paul Wayland</name>\\\\n    <topic>Animals</topic>\\\\n    <topic>Goat</topic>\\\\n    <usage_flag>permcoll</usage_flag>\\\\n    <online_media_type>Images</online_media_type>\\\\n  </indexedStructured>\\\\n  <freetext>\\\\n    <setName label=\\\\\"See more items in\\\\\">\\\\n      Smithsonian American Art Museum Collection\\\\n    </setName>\\\\n    <setName label=\\\\\"Department\\\\\">Painting and Sculpture</setName>\\\\n    <date label=\\\\\"Date\\\\\">modeled ca. 1877-1880</date>\\\\n    <identifier label=\\\\\"Object number\\\\\">1958.11.22</identifier>\\\\n    <notes label=\\\\\"Luce Center Label\\\\\">\\\\n      Paul Wayland Bartlett created many sculptures of animals during his early career in France. He studied the menagerie of wild creatures at the Jardin des Plantes in Paris and modeled sculptures of domestic animals such as cats, dogs, and goats. In the tradition of the animaliers, he often focused on facial expressions to capture the animal\\xe2\\x80\\x99s emotion.\\\\n    </notes>\\\\n    <creditLine label=\\\\\"Credit Line\\\\\">\\\\n      Smithsonian American Art Museum, Gift of Mrs. Armistead Peter III\\\\n    </creditLine>\\\\n    <name label=\\\\\"Artist\\\\\">\\\\n      Paul Wayland Bartlett, born New Haven, CT 1865-died Paris, France 1925\\\\n    </name>\\\\n    <topic label=\\\\\"Topic\\\\\">Animal\\\\\\\\goat</topic>\\\\n    <physicalDescription label=\\\\\"Medium\\\\\">bronze</physicalDescription>\\\\n    <physicalDescription label=\\\\\"Dimensions\\\\\">\\\\n      6 3/4 x 8 1/4 x 6 5/8 in. (17.2 x 20.8 x 16.8 cm)\\\\n    </physicalDescription>\\\\n    <dataSource label=\\\\\"Data Source\\\\\">Smithsonian American Art Museum</dataSource>\\\\n    <objectRights label=\\\\\"Restrictions &amp; Rights\\\\\">CC0</objectRights>\\\\n    <objectType label=\\\\\"Type\\\\\">Sculpture</objectType>\\\\n  </freetext>\\\\n</doc>\"},\"provider\":{\"@id\":\"http://dp.la/api/contributor/smithsonian\",\"name\":\"Smithsonian Institution\"},\"sourceResource\":{\"@id\":\"http://dp.la/api/items/5365a569594b6afe495ede88351bc551#SourceResource\",\"collection\":[{\"title\":\"Smithsonian American Art Museum Collection\"},{\"title\":\"Painting and Sculpture\"}],\"creator\":[\"Paul Wayland Bartlett, born New Haven, CT 1865-died Paris, France 1925\"],\"date\":[{\"displayDate\":\"modeled ca. 1877-1880\"}],\"description\":[\"Paul Wayland Bartlett created many sculptures of animals during his early career in France. He studied the menagerie of wild creatures at the Jardin des Plantes in Paris and modeled sculptures of domestic animals such as cats, dogs, and goats. In the tradition of the animaliers, he often focused on facial expressions to capture the animal\\xe2\\x80\\x99s emotion.\"],\"extent\":[\"6 3/4 x 8 1/4 x 6 5/8 in. (17.2 x 20.8 x 16.8 cm)\"],\"format\":[\"Bronze\"],\"rights\":[\"Smithsonian American Art Museum, Gift of Mrs. Armistead Peter III\"],\"subject\":[{\"name\":\"Animals\"},{\"name\":\"Goat\"},{\"name\":\"Bartlett, Paul Wayland\"},{\"name\":\"Animal\"},{\"name\":\"Goat\"}],\"temporal\":[{\"displayDate\":\"modeled ca. 1877-1880\"}],\"title\":[\"Kid\\'s Head\"],\"type\":[\"physical object\"]},\"@type\":\"ore:Aggregation\"}],\"facets\":[]}'\n"
     ]
    }
   ],
   "source": [
    "print(r.content)"
   ]
  },
  {
   "cell_type": "code",
   "execution_count": 37,
   "metadata": {
    "tags": [
     "outputPrepend"
    ]
   },
   "outputs": [
    {
     "output_type": "stream",
     "name": "stdout",
     "text": [
      "of men racing towards the cottage. The woman and man are holding on by the roof of the cottage. A man jumps overboard. The dog and the woman\\'s parents keep traveling towards the boat. A man rides his bicycle into the water. Two men throw a man overboard. Title: \\\\\"Saved-- but was it worth it?\\\\\" The family is saved and hug on a rescue boat. The dog poses in the heart frame. Title: \\\\\"Castle Films The End\\\\\" Black slug. Segment forty-five: Girls and flowers, 56:03. Segment sixteen\\'s clip is played again (Young girls pose in front of flowers. A young woman walks with her baby girl. The baby smiles at the camera. A young girl drives a toy car and the baby runs behind the car. The young girl then pushes the toy car while the baby sits inside. The young girls pet a dog. A girl swings on the swing set. The baby plays with a fan. The girls play with two dogs: A larger black dog and a small white dog). Black slug. Segment forty-six: Snow, 58:33. The camera pans across a house\\'s lawn that is covered in snow. A man and young boy play in the snow. A man balls up a snowball and throws it into the air. A dog runs through the snow. A man holds a young child and waves at the camera. The child walks in a field. Segment forty-seven: Lake, 1:00:58. The camera pans across the lake and shows people sitting on boats. People swim in the lake, some people play in the sand, and a child jumps on the diving board. Sign: \\\\\"Red Gate Cabins.\\\\\" Segment forty-eight: Beach, 1:02:18. A group of people stand in the ocean and let the waves hit them. A man holds a fish that he caught. Segment forty-nine: Little girl, 1:03:16. A little girl wears a grass skirt and dances. The girl pushes her dolls in a stroller. The girl sits in a small red rocking chair. The girl plays with a white dog. The girl holds a doll and tries to rock herself in the rocking chair. The little girl tries to feed a chicken. The girl drinks a dark soda from a glass bottle. Black slug.\"],\"extent\":[\"1 video file (mp4) (68 min., 06 sec.) :si., b&w and col.\"],\"identifier\":[\"hm-euban_0001.mp4\"],\"language\":[{\"name\":\"English\",\"iso639_3\":\"English\"}],\"spatial\":[{\"name\":\"United States, Georgia, 32.165622, -82.900075\"},{\"name\":\"United States, Georgia, Early County, Blakely, 31.3777, -84.9341\"},{\"name\":\"United States, Florida, Bay County, Panama City, 30.1588, -85.6602\"},{\"name\":\"United States, 39.76, -98.5\"}],\"subject\":[{\"name\":\"Eubanks family\"},{\"name\":\"Amateur films--Georgia--Blakely\"},{\"name\":\"Hunting\"},{\"name\":\"Rifles\"},{\"name\":\"Dogs\"},{\"name\":\"Pets\"},{\"name\":\"Infants\"},{\"name\":\"Lawn mowers\"},{\"name\":\"Band musicians\"},{\"name\":\"High school students\"},{\"name\":\"Card games\"},{\"name\":\"Cats\"},{\"name\":\"Pianists\"},{\"name\":\"Automobile driving\"},{\"name\":\"Concerts\"},{\"name\":\"African American household employees\"},{\"name\":\"Walking\"},{\"name\":\"Recreation\"},{\"name\":\"Goats\"},{\"name\":\"Girls\"},{\"name\":\"Swimming pools\"},{\"name\":\"Swimmers\"},{\"name\":\"Rivers\"},{\"name\":\"Flowers\"},{\"name\":\"Cottages\"},{\"name\":\"Baby strollers\"},{\"name\":\"Hose\"},{\"name\":\"Tricycles\"},{\"name\":\"Photography--Studios and dark rooms\"},{\"name\":\"Uniforms\"},{\"name\":\"Chickens\"},{\"name\":\"Canoes and canoeing\"},{\"name\":\"Panama City (Fla.)--Description and travel\"},{\"name\":\"Beaches--Florida--Panama City\"},{\"name\":\"Family vacations--Florida--Panama City\"},{\"name\":\"Fishing--Florida--Panama City\"},{\"name\":\"Passenger trains\"},{\"name\":\"Merry-go-round\"},{\"name\":\"Bicycles\"},{\"name\":\"Cycling\"},{\"name\":\"Basketball\"},{\"name\":\"Floods\"},{\"name\":\"Boats and boating\"},{\"name\":\"Rescue work\"},{\"name\":\"Silent films--United States\"},{\"name\":\"Arbuckle, Roscoe, 1887-1933\"},{\"name\":\"Normand, Mabel, 1894-1930\"},{\"name\":\"Snow\"},{\"name\":\"Snowballs\"},{\"name\":\"Lakes\"},{\"name\":\"Vacation homes\"},{\"name\":\"Beaches\"}],\"title\":[\"Gene Eubanks Home Movie Collection HM 181 (1 of 2 & 2 of 2) (hm-euban_0001)\"],\"type\":[\"moving image\"]},\"@type\":\"ore:Aggregation\"},{\"id\":\"e357f3624a1874f78f95376744ea8346\",\"@context\":\"http://dp.la/api/items/context\",\"@id\":\"http://dp.la/api/items/e357f3624a1874f78f95376744ea8346\",\"aggregatedCHO\":\"#sourceResource\",\"dataProvider\":\"National Museum of American History\",\"ingestDate\":\"2020-12-08T00:39:00.593Z\",\"ingestType\":\"item\",\"isShownAt\":\"http://collections.si.edu/search/results.htm?q=record_ID=nmah_629543&repo=DPLA\",\"object\":\"https://ids.si.edu/ids/deliveryService?id=NMAH-AHB2019q155470&max=150\",\"originalRecord\":{\"stringValue\":\"<doc>\\\\n  <descriptiveNonRepeating>\\\\n    <record_ID>nmah_629543</record_ID>\\\\n    <online_media>\\\\n      <media \\\\n      thumbnail=\\\\\"https://ids.si.edu/ids/deliveryService?id=NMAH-AHB2019q155470&amp;max=150\\\\\" idsId=\\\\\"NMAH-AHB2019q155470\\\\\" guid=\\\\\"http://n2t.net/ark:/65665/bq99ca746be-bb3a-704b-e053-15f76fa0b4fa\\\\\" type=\\\\\"Images\\\\\">\\\\n        <usage>\\\\n          <access>Not determined</access>\\\\n        </usage>\\\\n        https://ids.si.edu/ids/deliveryService?id=NMAH-AHB2019q155470\\\\n</media>\\\\n    </online_media>\\\\n    <unit_code>NMAH</unit_code>\\\\n    <title_sort>WOOLWORK SPOT SAMPLER; UNKNOWN MAKER; DATED 1878</title_sort>\\\\n    <guid>http://n2t.net/ark:/65665/ng49ca746a4-53b7-704b-e053-15f76fa0b4fa</guid>\\\\n    <title label=\\\\\"Title\\\\\">Woolwork spot sampler; Unknown maker; dated 1878</title>\\\\n    <metadata_usage>\\\\n      <access>CC0</access>\\\\n    </metadata_usage>\\\\n    <data_source>National Museum of American History</data_source>\\\\n  </descriptiveNonRepeating>\\\\n  <indexedStructured>\\\\n    <object_type>sampler; woolwork</object_type>\\\\n    <object_type>Samplers (embroidery)</object_type>\\\\n    <online_media_type>Images</online_media_type>\\\\n  </indexedStructured>\\\\n  <freetext>\\\\n    <setName label=\\\\\"See more items in\\\\\">\\\\n      Cultural and Community Life: Textiles\\\\n    </setName>\\\\n    <identifier label=\\\\\"ID Number\\\\\">TE.T08267</identifier>\\\\n    <identifier label=\\\\\"catalog number\\\\\">T08267.000</identifier>\\\\n    <identifier label=\\\\\"accession number\\\\\">148588</identifier>\\\\n    <notes label=\\\\\"Description\\\\\">\\\\n      A woolwork embroidered sampler; square, with white scrolling corner motifs framing many bright colored motifs on black background. Anonymous. Worked in cross stitch, in wool yarns on an open weave canvas ground. An old English &quot;M&quot; is in the center and the date Feb. 1878 appears at the top. Among the motifs, which are densely arranged, with no particular connection among them, are: figures dressed in Colonial garb; a puppet show stage labeled &quot;Guignol&quot;; pitchfork-holding devils; various animals (several different cats, two goats butting heads; monkeys; donkey; elephant; heraldic dragon; chicken; insects) children on a seesaw; a man on a bicycle; musical instruments; a stereotypical Indian figure with the motto above it &quot;Up to Snuff&quot; suggesting it was taken from a tobacco advertisement; and a small square with the stereotypical black &quot;dancing figures&quot; with the motto &quot;We\\'s Free.&quot; The random assortment of motifs suggests that the maker copied readily available images, perhaps from pattern books or magazines. Whether they meant something to the maker personally, we cannot know.\\\\n    </notes>\\\\n    <notes label=\\\\\"Location\\\\\">Currently not on view</notes>\\\\n    <creditLine label=\\\\\"Credit Line\\\\\">Gift of Albert Adsit Clemons</creditLine>\\\\n    <physicalDescription label=\\\\\"Physical Description\\\\\">\\\\n      cotton penelope canvas (overall ground)\\\\n    </physicalDescription>\\\\n    <physicalDescription label=\\\\\"Physical Description\\\\\">\\\\n      wool and silk (overall thread)\\\\n    </physicalDescription>\\\\n    <physicalDescription label=\\\\\"Measurements\\\\\">\\\\n      overall: 24 in x 24 1/2 in; 60.96 cm x 62.23 cm\\\\n    </physicalDescription>\\\\n    <dataSource label=\\\\\"Data Source\\\\\">\\\\n      National Museum of American History\\\\n    </dataSource>\\\\n    <objectType label=\\\\\"Object Name\\\\\">sampler; woolwork</objectType>\\\\n    <objectType label=\\\\\"Object Name\\\\\">sampler</objectType>\\\\n  </freetext>\\\\n</doc>\"},\"provider\":{\"@id\":\"http://dp.la/api/contributor/smithsonian\",\"name\":\"Smithsonian Institution\"},\"sourceResource\":{\"@id\":\"http://dp.la/api/items/e357f3624a1874f78f95376744ea8346#SourceResource\",\"collection\":[{\"title\":\"Cultural and Community Life: Textiles\"}],\"description\":[\"A woolwork embroidered sampler; square, with white scrolling corner motifs framing many bright colored motifs on black background. Anonymous. Worked in cross stitch, in wool yarns on an open weave canvas ground. An old English \\\\\"M\\\\\" is in the center and the date Feb. 1878 appears at the top. Among the motifs, which are densely arranged, with no particular connection among them, are: figures dressed in Colonial garb; a puppet show stage labeled \\\\\"Guignol\\\\\"; pitchfork-holding devils; various animals (several different cats, two goats butting heads; monkeys; donkey; elephant; heraldic dragon; chicken; insects) children on a seesaw; a man on a bicycle; musical instruments; a stereotypical Indian figure with the motto above it \\\\\"Up to Snuff\\\\\" suggesting it was taken from a tobacco advertisement; and a small square with the stereotypical black \\\\\"dancing figures\\\\\" with the motto \\\\\"We\\'s Free.\\\\\" The random assortment of motifs suggests that the maker copied readily available images, perhaps from pattern books or magazines. Whether they meant something to the maker personally, we cannot know.\",\"Currently not on view\"],\"format\":[\"Cotton penelope canvas (overall ground)\",\"Wool and silk (overall thread)\"],\"rights\":[\"Gift of Albert Adsit Clemons\"],\"title\":[\"Woolwork spot sampler; Unknown maker; dated 1878\"]},\"@type\":\"ore:Aggregation\"},{\"id\":\"c1af109e5d72b4ae1f8f3ed3ba898720\",\"@context\":\"http://dp.la/api/items/context\",\"@id\":\"http://dp.la/api/items/c1af109e5d72b4ae1f8f3ed3ba898720\",\"aggregatedCHO\":\"#sourceResource\",\"dataProvider\":\"Colorado State University. Libraries\",\"ingestDate\":\"2020-10-26T21:22:57.409Z\",\"ingestType\":\"item\",\"intermediateProvider\":\"Mountain Scholar\",\"isShownAt\":\"http://hdl.handle.net/10217/48123\",\"object\":\"https://mountainscholar.org/bitstream/10217/48123/5/Moreno_colostate_0053N_10539.pdf.jpg\",\"rights\":\"http://rightsstatements.org/vocab/CNE/1.0/\",\"originalRecord\":{\"stringValue\":\"<record \\\\nxmlns=\\\\\"http://www.openarchives.org/OAI/2.0/\\\\\" xmlns:xsi=\\\\\"http://www.w3.org/2001/XMLSchema-instance\\\\\">\\\\n  <header>\\\\n    <identifier>\\\\n      oai:plains2peaks:Mount_Scholar:oai:mountainscholar.org:10217/48123\\\\n    </identifier>\\\\n    <datestamp>2020-10-26T19:03:16Z</datestamp>\\\\n  </header>\\\\n  <metadata>\\\\n    <mods:mods xmlns:mods=\\\\\"http://www.loc.gov/mods/v3\\\\\">\\\\n      <mods:note type=\\\\\"ownership\\\\\">Colorado State University. Libraries</mods:note>\\\\n      <mods:note type=\\\\\"admin\\\\\">Mountain Scholar</mods:note>\\\\n      <mods:location>\\\\n        <mods:url usage=\\\\\"primary display\\\\\">http://hdl.handle.net/10217/48123</mods:url>\\\\n      </mods:location>\\\\n      <mods:accessCondition type=\\\\\"use and reproduction\\\\\">\\\\n        https://rightsstatements.org/page/CNE/1.0/\\\\n      </mods:accessCondition>\\\\n      <mods:titleInfo>\\\\n        <mods:title>\\\\n          Zen and the art of conquest: a southerly misadventure with Phaedrus and other essays\\\\n        </mods:title>\\\\n      </mods:titleInfo>\\\\n      <mods:location>\\\\n        <mods:url access=\\\\\"preview\\\\\">\\\\n          https://mountainscholar.org/bitstream/10217/48123/5/Moreno_colostate_0053N_10539.pdf.jpg\\\\n        </mods:url>\\\\n      </mods:location>\\\\n      <mods:originInfo>\\\\n        <mods:dateCreated keyDate=\\\\\"yes\\\\\">2011</mods:dateCreated>\\\\n      </mods:originInfo>\\\\n      <mods:abstract>\\\\n        2011 Summer. Includes bibliographical references. As the title suggests, this thesis comprises several works of creative nonfiction. First, &quot;Zen and the Art of Conquest&quot; presents an incomplete narrative, in six chapters, that draws inspiration from Robert Pirsig\\'s Zen and the Art of Motorcycle Maintenance (1974) and other travelogues. In Chapter One, the author embarks on a road trip to Las Vegas that seems haunted by his past--that is, his Peace Corps service in Kyrgyzstan, where &quot;the killing started&quot; just a month ago. Chapter Two begins with a flashback from an earthquake that preceded the killing, but then moves back to the road, where the author has reached Prineville, Oregon, also a stop on Pirsig\\'s journey. Pushing farther south, in Chapter Three, through Indian country, the author recalls childhood memories of Cathlapotle, a Chinook village described in Lewis and Clark\\'s journals. Chapter Four profiles the author\\'s father and grandfather, who devoted themselves to unearthing a Mayan graveyard in Guatemala. The Maya\\'s ancestors migrated south from Asia and then Oregon, the author discovers, and this fact drives his thinking in Chapter Five. He\\'s determined to reach Las Vegas because he wants to put questions about what happened in Kyrgyzstan to a former Peace Corps volunteer living there with his Kyrgyz wife. Chapter Five concludes with the author\\'s arrival in Osh, the scene of the killing, and Chapter Six alternates between his approach to the Oregon-Nevada border and a village feast where Kyrgyz men butcher livestock and grill him about Amerikadan. Three essays constitute the second half of this thesis. &quot;What Happened Yesterday in Baghdad&quot; recounts the author\\'s conversations with a group of Iraqi students visiting Colorado. Their wartime memories resonate with his life as a public radio producer between 2004 and 2008--a time when he assembled reports for correspondents in Baghdad and helped &quot;voice&quot; the words of the conflict\\'s victims. &quot;Exposure Time&quot; reflects on the author\\'s preoccupation with dying in a cycling accident, which in turn offers an entry into recollections of violence in Cartagena, Colombia, and Osh, Kyrgyzstan. The final essay, &quot;I\\'d Like to Talk About the Bigger Stuff,&quot; explores the author\\'s separation from a woman who observes, after his Peace Corps service, that he no longer has compassion for animals. This observation invites a meditation on American relationships with dogs, cats, and wildlife; the roles of dogs, goats, and horses in Kyrgyzstan; and the legacy of the Soviet Union in Central Asia.  (Master of Arts (M.A.), English, Colorado State University.)\\\\n      </mods:abstract>\\\\n      <mods:subject>\\\\n        <mods:topic>creative nonfiction</mods:topic>\\\\n      </mods:subject>\\\\n      <mods:subject>\\\\n        <mods:topic>Guatemala</mods:topic>\\\\n      </mods:subject>\\\\n      <mods:subject>\\\\n        <mods:topic>Kyrgyzstan</mods:topic>\\\\n      </mods:subject>\\\\n      <mods:subject>\\\\n        <mods:topic>Peace Corps</mods:topic>\\\\n      </mods:subject>\\\\n      <mods:subject>\\\\n        <mods:topic>travel</mods:topic>\\\\n      </mods:subject>\\\\n      <mods:subject>\\\\n        <mods:topic>American Indians</mods:topic>\\\\n      </mods:subject>\\\\n      <mods:typeOfResource>Text</mods:typeOfResource>\\\\n      <mods:name>\\\\n        <mods:namePart>Moreno, Raul B.</mods:namePart>\\\\n        <mods:role>\\\\n          <mods:roleTerm>creator</mods:roleTerm>\\\\n        </mods:role>\\\\n      </mods:name>\\\\n      <mods:relatedItem type=\\\\\"host\\\\\">\\\\n        <mods:titleInfo>\\\\n          <mods:title>2000-2019 - CSU Theses and Dissertations</mods:title>\\\\n        </mods:titleInfo>\\\\n      </mods:relatedItem>\\\\n      <mods:language>\\\\n        <mods:languageTerm>eng</mods:languageTerm>\\\\n      </mods:language>\\\\n      <mods:name>\\\\n        <mods:namePart>Sloane, Sarah</mods:namePart>\\\\n        <mods:role>\\\\n          <mods:roleTerm type=\\\\\"text\\\\\">contributor</mods:roleTerm>\\\\n        </mods:role>\\\\n      </mods:name>\\\\n      <mods:name>\\\\n        <mods:namePart>Calderazzo, John</mods:namePart>\\\\n        <mods:role>\\\\n          <mods:roleTerm type=\\\\\"text\\\\\">contributor</mods:roleTerm>\\\\n        </mods:role>\\\\n      </mods:name>\\\\n      <mods:name>\\\\n        <mods:namePart>Kodrich, Kris</mods:namePart>\\\\n        <mods:role>\\\\n          <mods:roleTerm type=\\\\\"text\\\\\">contributor</mods:roleTerm>\\\\n        </mods:role>\\\\n      </mods:name>\\\\n      <mods:physicalDescription>\\\\n        <mods:form>born digital</mods:form>\\\\n      </mods:physicalDescription>\\\\n      <mods:physicalDescription>\\\\n        <mods:form>masters theses</mods:form>\\\\n      </mods:physicalDescription>\\\\n      <mods:recordInfo>\\\\n        <mods:recordIdentifier>\\\\n          http://hdl.handle.net/10217/48123\\\\n        </mods:recordIdentifier>\\\\n      </mods:recordInfo>\\\\n    </mods:mods>\\\\n  </metadata>\\\\n</record>\\\\n\"},\"provider\":{\"@id\":\"http://dp.la/api/contributor/p2p\",\"name\":\"Plains to Peaks Collective\"},\"sourceResource\":{\"@id\":\"http://dp.la/api/items/c1af109e5d72b4ae1f8f3ed3ba898720#SourceResource\",\"collection\":[{\"title\":\"2000-2019 - CSU Theses and Dissertations\"}],\"contributor\":[\"Sloane, Sarah\",\"Calderazzo, John\",\"Kodrich, Kris\"],\"creator\":[\"Moreno, Raul B\"],\"date\":[{\"displayDate\":\"2011\",\"begin\":\"2011\",\"end\":\"2011\"}],\"description\":[\"2011 Summer. Includes bibliographical references. As the title suggests, this thesis comprises several works of creative nonfiction. First, \\\\\"Zen and the Art of Conquest\\\\\" presents an incomplete narrative, in six chapters, that draws inspiration from Robert Pirsig\\'s Zen and the Art of Motorcycle Maintenance (1974) and other travelogues. In Chapter One, the author embarks on a road trip to Las Vegas that seems haunted by his past--that is, his Peace Corps service in Kyrgyzstan, where \\\\\"the killing started\\\\\" just a month ago. Chapter Two begins with a flashback from an earthquake that preceded the killing, but then moves back to the road, where the author has reached Prineville, Oregon, also a stop on Pirsig\\'s journey. Pushing farther south, in Chapter Three, through Indian country, the author recalls childhood memories of Cathlapotle, a Chinook village described in Lewis and Clark\\'s journals. Chapter Four profiles the author\\'s father and grandfather, who devoted themselves to unearthing a Mayan graveyard in Guatemala. The Maya\\'s ancestors migrated south from Asia and then Oregon, the author discovers, and this fact drives his thinking in Chapter Five. He\\'s determined to reach Las Vegas because he wants to put questions about what happened in Kyrgyzstan to a former Peace Corps volunteer living there with his Kyrgyz wife. Chapter Five concludes with the author\\'s arrival in Osh, the scene of the killing, and Chapter Six alternates between his approach to the Oregon-Nevada border and a village feast where Kyrgyz men butcher livestock and grill him about Amerikadan. Three essays constitute the second half of this thesis. \\\\\"What Happened Yesterday in Baghdad\\\\\" recounts the author\\'s conversations with a group of Iraqi students visiting Colorado. Their wartime memories resonate with his life as a public radio producer between 2004 and 2008--a time when he assembled reports for correspondents in Baghdad and helped \\\\\"voice\\\\\" the words of the conflict\\'s victims. \\\\\"Exposure Time\\\\\" reflects on the author\\'s preoccupation with dying in a cycling accident, which in turn offers an entry into recollections of violence in Cartagena, Colombia, and Osh, Kyrgyzstan. The final essay, \\\\\"I\\'d Like to Talk About the Bigger Stuff,\\\\\" explores the author\\'s separation from a woman who observes, after his Peace Corps service, that he no longer has compassion for animals. This observation invites a meditation on American relationships with dogs, cats, and wildlife; the roles of dogs, goats, and horses in Kyrgyzstan; and the legacy of the Soviet Union in Central Asia. (Master of Arts (M.A.), English, Colorado State University.)\"],\"format\":[\"Masters theses\"],\"identifier\":[\"http://hdl.handle.net/10217/48123\"],\"language\":[{\"name\":\"English\",\"iso639_3\":\"English\"}],\"subject\":[{\"name\":\"Creative nonfiction\"},{\"name\":\"Guatemala\"},{\"name\":\"Kyrgyzstan\"},{\"name\":\"Peace Corps\"},{\"name\":\"Travel\"},{\"name\":\"American Indians\"}],\"title\":[\"Zen and the art of conquest: a southerly misadventure with Phaedrus and other essays\"],\"type\":[\"text\"]},\"@type\":\"ore:Aggregation\"}],\"facets\":[]}'\n"
     ]
    }
   ],
   "source": [
    "params = {'api_key' : key['api_key'], 'q' : 'goats+AND+cats', 'page_size' : 500}\n",
    "r = requests.get(url, params)\n",
    "print(r.content)"
   ]
  },
  {
   "cell_type": "code",
   "execution_count": null,
   "metadata": {},
   "outputs": [],
   "source": []
  }
 ]
}